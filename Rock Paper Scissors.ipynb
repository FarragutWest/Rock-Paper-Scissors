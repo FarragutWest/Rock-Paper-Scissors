{
 "cells": [
  {
   "cell_type": "code",
   "execution_count": 7,
   "metadata": {},
   "outputs": [],
   "source": [
    "import random"
   ]
  },
  {
   "cell_type": "code",
   "execution_count": 8,
   "metadata": {},
   "outputs": [
    {
     "name": "stdout",
     "output_type": "stream",
     "text": [
      "Choose between 1.Rock, 2.Paper, 3.Scissors\n",
      "Selection: 3\n",
      "You have chosen Scissors\n",
      "The computer has chosen Rock\n",
      "Rock is winning. Computer has won\n",
      "Do you want to continue? Y/N\n",
      "Y\n",
      "Choose between 1.Rock, 2.Paper, 3.Scissors\n",
      "Selection: 2\n",
      "You have chosen Paper\n",
      "The computer has chosen Rock\n",
      "Paper is winning. Congrats, you won!\n",
      "Do you want to continue? Y/N\n",
      "N\n"
     ]
    }
   ],
   "source": [
    "while True:\n",
    "    print('Choose between 1.Rock, 2.Paper, 3.Scissors')\n",
    "    choice=int(input(\"Selection: \"))\n",
    "    if choice==1:\n",
    "        choice_name=\"Rock\"\n",
    "    elif choice==2:\n",
    "        choice_name=\"Paper\"\n",
    "    else:\n",
    "        choice_name=\"Scissors\"\n",
    "    print(\"You have chosen \"+choice_name)\n",
    "    computer_choice=random.randint(1,3)\n",
    "    if computer_choice==1:\n",
    "        computer_choice_name=\"Rock\"\n",
    "    elif computer_choice==2:\n",
    "        computer_choice_name=\"Paper\"\n",
    "    else:\n",
    "        computer_choice_name=\"Scissors\" \n",
    "    print(\"The computer has chosen \"+computer_choice_name)\n",
    "    \n",
    "    if((choice==1 and computer_choice==2)) or((choice==2 and computer_choice==1)):\n",
    "        print('Paper is winning. ',end=\"\")\n",
    "        result=\"Paper\"\n",
    "    elif((choice==1 and computer_choice==3)) or((choice==3 and computer_choice==1)):\n",
    "        print('Rock is winning. ',end=\"\")\n",
    "        result=\"Rock\"\n",
    "    elif((choice==1 and computer_choice==1)) or((choice==2 and computer_choice==2)) or ((choice==3 and computer_choice==3)):\n",
    "        print('Tie.',end=\"\")\n",
    "        result=\"Tie\"\n",
    "    else:\n",
    "        print(\"Scissors are winning. \",end=\"\")\n",
    "        result=\"Scissors\"\n",
    "    if result==choice_name:\n",
    "        print(\"Congrats, you won!\")\n",
    "    else:\n",
    "        print(\"Computer has won\")\n",
    "    print(\"Do you want to continue? Y/N\")\n",
    "    answer=input()\n",
    "    if answer==\"n\" or answer==\"N\":\n",
    "        break\n",
    "    "
   ]
  },
  {
   "cell_type": "code",
   "execution_count": null,
   "metadata": {},
   "outputs": [],
   "source": []
  }
 ],
 "metadata": {
  "kernelspec": {
   "display_name": "Python 3",
   "language": "python",
   "name": "python3"
  },
  "language_info": {
   "codemirror_mode": {
    "name": "ipython",
    "version": 3
   },
   "file_extension": ".py",
   "mimetype": "text/x-python",
   "name": "python",
   "nbconvert_exporter": "python",
   "pygments_lexer": "ipython3",
   "version": "3.7.6"
  }
 },
 "nbformat": 4,
 "nbformat_minor": 4
}
